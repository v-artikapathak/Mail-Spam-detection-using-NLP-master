{
 "cells": [
  {
   "cell_type": "code",
   "execution_count": 1,
   "metadata": {},
   "outputs": [
    {
     "name": "stderr",
     "output_type": "stream",
     "text": [
      "Using TensorFlow backend.\n"
     ]
    }
   ],
   "source": [
    "import pandas as pd \n",
    "import numpy as np \n",
    "import matplotlib.pyplot as plt \n",
    "import tensorflow as tf \n",
    "\n",
    "from keras.preprocessing.text import Tokenizer \n",
    "from keras.preprocessing.sequence import pad_sequences\n"
   ]
  },
  {
   "cell_type": "code",
   "execution_count": 2,
   "metadata": {},
   "outputs": [
    {
     "name": "stdout",
     "output_type": "stream",
     "text": [
      "\n",
      "Hyperparameters Done\n",
      "\n"
     ]
    }
   ],
   "source": [
    "####Hyperparameters####\n",
    "VOCAB_SIZE = 30000\n",
    "EMBEDDING_DIM = 16\n",
    "EPOCHS = 15\n",
    "MAX_LEN = 32\n",
    "TRUNC_TYPE = 'post'\n",
    "PADD_TYPE = 'post'\n",
    "UNK_TOK = '<UNK>'\n",
    "TRAINING_SIZE = 1000\n",
    "\n",
    "print('\\nHyperparameters Done\\n')"
   ]
  },
  {
   "cell_type": "code",
   "execution_count": 3,
   "metadata": {},
   "outputs": [
    {
     "name": "stdout",
     "output_type": "stream",
     "text": [
      "dataset: \n",
      "  Category                                            Message\n",
      "0      ham  Go until jurong point, crazy.. Available only ...\n",
      "1      ham                      Ok lar... Joking wif u oni...\n",
      "2     spam  Free entry in 2 a wkly comp to win FA Cup fina...\n",
      "3      ham  U dun say so early hor... U c already then say...\n",
      "4      ham  Nah I don't think he goes to usf, he lives aro... \n",
      "\n",
      "Null values in the dataset: \n",
      "      Category  Message\n",
      "0        False    False\n",
      "1        False    False\n",
      "2        False    False\n",
      "3        False    False\n",
      "4        False    False\n",
      "...        ...      ...\n",
      "5567     False    False\n",
      "5568     False    False\n",
      "5569     False    False\n",
      "5570     False    False\n",
      "5571     False    False\n",
      "\n",
      "[5572 rows x 2 columns] \n",
      "\n",
      "Sum of Null values in each column: \n",
      "Category    0\n",
      "Message     0\n",
      "dtype: int64 \n",
      "\n",
      "dataset: \n",
      "   Category                                            Message\n",
      "0         0  Go until jurong point, crazy.. Available only ...\n",
      "1         0                      Ok lar... Joking wif u oni...\n",
      "2         1  Free entry in 2 a wkly comp to win FA Cup fina...\n",
      "3         0  U dun say so early hor... U c already then say...\n",
      "4         0  Nah I don't think he goes to usf, he lives aro... \n",
      "\n"
     ]
    }
   ],
   "source": [
    "dataset = pd.read_csv('Spam dataset.csv')\n",
    "print('dataset: ')\n",
    "\n",
    "print(dataset.head(), '\\n')\n",
    "print('Null values in the dataset: ')\n",
    "\n",
    "print(dataset.isnull(), '\\n')\n",
    "print('Sum of Null values in each column: ')\n",
    "\n",
    "print(dataset.isnull().sum(), '\\n')\n",
    "\n",
    "dataset[\"Category\"] = [1 if each == \"spam\" else 0 for each in dataset[\"Category\"]]\n",
    "\n",
    "print('dataset: ')\n",
    "print(dataset.head(), '\\n')"
   ]
  },
  {
   "cell_type": "code",
   "execution_count": 4,
   "metadata": {},
   "outputs": [
    {
     "name": "stdout",
     "output_type": "stream",
     "text": [
      "Type of X: <class 'numpy.ndarray'>\n",
      "shape of X:  (5572, 1)\n",
      "Type of Y;  <class 'numpy.ndarray'>\n",
      "shape of Y:  (5572, 1)\n",
      "Length of X:  5572 \n",
      "\n"
     ]
    }
   ],
   "source": [
    "X = dataset.iloc[:, 1].values\n",
    "X = X.reshape(-1, 1)\n",
    "print('Type of X:', type(X))\n",
    "print('shape of X: ', X.shape)\n",
    "#print(X)\n",
    "\n",
    "Y = dataset.iloc[:, 0].values\n",
    "y = Y.reshape(-1, 1)\n",
    "print('Type of Y; ', type(Y))\n",
    "print('shape of Y: ', y.shape)\n",
    "#print(y)\n",
    "X = X.tolist()\n",
    "y = y.tolist()\n",
    "print('Length of X: ', len(X), '\\n')"
   ]
  },
  {
   "cell_type": "code",
   "execution_count": 5,
   "metadata": {},
   "outputs": [
    {
     "name": "stdout",
     "output_type": "stream",
     "text": [
      "Length of training samples  4572 \n",
      "\n",
      "Length of testing samples 1000 \n",
      "\n"
     ]
    }
   ],
   "source": [
    "####Train test Split####\n",
    "Training_Sentences = X[TRAINING_SIZE:]\n",
    "Training_Labels = y[TRAINING_SIZE:]\n",
    "print('Length of training samples ', len(Training_Sentences), '\\n')\n",
    "\n",
    "Testing_Sentences = X[0: TRAINING_SIZE]\n",
    "Testing_Lables = y[0:TRAINING_SIZE]\n",
    "print('Length of testing samples', len(Testing_Sentences), '\\n')"
   ]
  },
  {
   "cell_type": "code",
   "execution_count": 6,
   "metadata": {},
   "outputs": [],
   "source": [
    "####TOKENIZING THE WORDS#####\n",
    "tokenizer = Tokenizer(num_words=VOCAB_SIZE, oov_token=UNK_TOK)\n",
    "tokenizer.fit_on_texts(Training_Sentences)\n",
    "\n",
    "word_index = tokenizer.word_index\n",
    "\n",
    "#print(word_index, '\\n \\n \\n')\n",
    "\n",
    "Training_Sequences = tokenizer.texts_to_sequences(Training_Sentences)\n",
    "Training_pad = pad_sequences(Training_Sequences, maxlen=MAX_LEN, padding=PADD_TYPE, truncating=TRUNC_TYPE)\n",
    "\n",
    "Testing_Sequences = tokenizer.texts_to_sequences(Testing_Sentences)\n",
    "Testing_pad = pad_sequences(Testing_Sequences, maxlen=MAX_LEN, padding=PADD_TYPE, truncating=TRUNC_TYPE)"
   ]
  },
  {
   "cell_type": "code",
   "execution_count": 7,
   "metadata": {},
   "outputs": [
    {
     "name": "stdout",
     "output_type": "stream",
     "text": [
      "#####MODEL INSTANCE Done#####\n",
      "#########################\n",
      "Model: \"sequential\"\n",
      "_________________________________________________________________\n",
      "Layer (type)                 Output Shape              Param #   \n",
      "=================================================================\n",
      "embedding (Embedding)        (None, 32, 16)            480000    \n",
      "_________________________________________________________________\n",
      "bidirectional (Bidirectional (None, 32, 128)           41472     \n",
      "_________________________________________________________________\n",
      "bidirectional_1 (Bidirection (None, 128)               98816     \n",
      "_________________________________________________________________\n",
      "flatten (Flatten)            (None, 128)               0         \n",
      "_________________________________________________________________\n",
      "dense (Dense)                (None, 24)                3096      \n",
      "_________________________________________________________________\n",
      "dense_1 (Dense)              (None, 1)                 25        \n",
      "=================================================================\n",
      "Total params: 623,409\n",
      "Trainable params: 623,409\n",
      "Non-trainable params: 0\n",
      "_________________________________________________________________\n",
      "None\n",
      "#########################\n"
     ]
    }
   ],
   "source": [
    "#####BUILDING THE MODEL############\n",
    "\n",
    "model = tf.keras.Sequential()\n",
    "print('#####MODEL INSTANCE Done#####')\n",
    "model.add(tf.keras.layers.Embedding(VOCAB_SIZE, EMBEDDING_DIM, input_length=MAX_LEN))\n",
    "model.add(tf.keras.layers.Bidirectional(tf.keras.layers.LSTM(64, return_sequences=True)))\n",
    "model.add(tf.keras.layers.Bidirectional(tf.keras.layers.LSTM(64)))\n",
    "model.add(tf.keras.layers.Flatten())\n",
    "model.add(tf.keras.layers.Dense(24, activation='relu'))\n",
    "model.add(tf.keras.layers.Dense(1, activation='sigmoid'))\n",
    "\n",
    "print('#########################')\n",
    "print(model.summary())\n",
    "print('#########################')"
   ]
  },
  {
   "cell_type": "code",
   "execution_count": 8,
   "metadata": {},
   "outputs": [],
   "source": [
    "########Converting to numpy array##########\n",
    "Training_Sequences_padded = np.asarray(Training_pad)\n",
    "Testing_Sequences_padded = np.asarray(Testing_pad)\n",
    "Training_Labels = np.asarray(Training_Labels)\n",
    "Testing_Lables = np.asarray(Testing_Lables)"
   ]
  },
  {
   "cell_type": "code",
   "execution_count": 9,
   "metadata": {},
   "outputs": [
    {
     "name": "stdout",
     "output_type": "stream",
     "text": [
      "Epoch 1/15\n",
      "143/143 [==============================] - 12s 81ms/step - loss: 0.4072 - accuracy: 0.8646 - val_loss: 0.4278 - val_accuracy: 0.8480\n",
      "Epoch 2/15\n",
      "143/143 [==============================] - 9s 62ms/step - loss: 0.3865 - accuracy: 0.8699 - val_loss: 0.4259 - val_accuracy: 0.8480\n",
      "Epoch 3/15\n",
      "143/143 [==============================] - 8s 57ms/step - loss: 0.1372 - accuracy: 0.9543 - val_loss: 0.5104 - val_accuracy: 0.8820\n",
      "Epoch 4/15\n",
      "143/143 [==============================] - 8s 59ms/step - loss: 0.0094 - accuracy: 0.9987 - val_loss: 0.7567 - val_accuracy: 0.8820\n",
      "Epoch 5/15\n",
      "143/143 [==============================] - 9s 62ms/step - loss: 0.0019 - accuracy: 0.9998 - val_loss: 0.8800 - val_accuracy: 0.8820\n",
      "Epoch 6/15\n",
      "143/143 [==============================] - 8s 58ms/step - loss: 0.0017 - accuracy: 0.9998 - val_loss: 0.9663 - val_accuracy: 0.8820\n",
      "Epoch 7/15\n",
      "143/143 [==============================] - 8s 58ms/step - loss: 0.0131 - accuracy: 0.9969 - val_loss: 3.8662 - val_accuracy: 0.2300\n",
      "Epoch 8/15\n",
      "143/143 [==============================] - 8s 59ms/step - loss: 0.0047 - accuracy: 0.9991 - val_loss: 1.0558 - val_accuracy: 0.8820\n",
      "Epoch 9/15\n",
      "143/143 [==============================] - 8s 58ms/step - loss: 1.2650e-04 - accuracy: 1.0000 - val_loss: 1.1309 - val_accuracy: 0.8820\n",
      "Epoch 10/15\n",
      "143/143 [==============================] - 9s 61ms/step - loss: 6.3348e-05 - accuracy: 1.0000 - val_loss: 1.1816 - val_accuracy: 0.8820\n",
      "Epoch 11/15\n",
      "143/143 [==============================] - 8s 59ms/step - loss: 4.1290e-05 - accuracy: 1.0000 - val_loss: 1.2209 - val_accuracy: 0.8820\n",
      "Epoch 12/15\n",
      "143/143 [==============================] - 8s 59ms/step - loss: 2.9697e-05 - accuracy: 1.0000 - val_loss: 1.2533 - val_accuracy: 0.8820\n",
      "Epoch 13/15\n",
      "143/143 [==============================] - 9s 61ms/step - loss: 2.2575e-05 - accuracy: 1.0000 - val_loss: 1.2814 - val_accuracy: 0.8820\n",
      "Epoch 14/15\n",
      "143/143 [==============================] - 8s 58ms/step - loss: 1.7801e-05 - accuracy: 1.0000 - val_loss: 1.3064 - val_accuracy: 0.8820\n",
      "Epoch 15/15\n",
      "143/143 [==============================] - 8s 59ms/step - loss: 1.4420e-05 - accuracy: 1.0000 - val_loss: 1.3289 - val_accuracy: 0.8820\n"
     ]
    }
   ],
   "source": [
    "######Training THE MODEL###################\n",
    "model.compile(optimizer='adam', loss='binary_crossentropy', metrics=['accuracy'])\n",
    "history = model.fit(Training_Sequences_padded, Training_Labels, validation_data=(Testing_Sequences_padded, Testing_Lables), epochs=EPOCHS)"
   ]
  },
  {
   "cell_type": "code",
   "execution_count": 43,
   "metadata": {},
   "outputs": [
    {
     "data": {
      "image/png": "[encoded data removed]",
      "text/plain": [
       "<Figure size 432x288 with 1 Axes>"
      ]
     },
     "metadata": {
      "needs_background": "light"
     },
     "output_type": "display_data"
    },
    {
     "data": {
      "image/png": "[encoded data removed]",
      "text/plain": [
       "<Figure size 432x288 with 1 Axes>"
      ]
     },
     "metadata": {
      "needs_background": "light"
     },
     "output_type": "display_data"
    },
    {
     "name": "stdout",
     "output_type": "stream",
     "text": [
      "######DONE########\n"
     ]
    }
   ],
   "source": [
    "def Plot(history, string):\n",
    "    plt.plot(history.history[string])\n",
    "    plt.plot(history.history['val_' + string])\n",
    "    plt.xlabel(\"EPOCHS\")\n",
    "    plt.ylabel(string)\n",
    "    plt.legend([string, 'val_' + string ])\n",
    "    plt.savefig(string + '.png')\n",
    "    plt.show()\n",
    "    \n",
    "    \n",
    "Plot(history, \"accuracy\")\n",
    "Plot(history, \"loss\")\n",
    "\n",
    "\n",
    "print(\"######DONE########\")\n"
   ]
  },
  {
   "cell_type": "code",
   "execution_count": 16,
   "metadata": {},
   "outputs": [
    {
     "name": "stdout",
     "output_type": "stream",
     "text": [
      "WINNER. You won this exciting lottery!!!\n",
      "Done\n",
      "(1, 32)\n",
      "output class:  [[0.9994037]]\n"
     ]
    }
   ],
   "source": [
    "text = 'WINNER. You won this exciting lottery!!!'\n",
    "print(text)\n",
    "Test = tokenizer.texts_to_sequences([text])[0]\n",
    "Test_padded = pad_sequences([Test], maxlen=MAX_LEN, padding=PADD_TYPE, truncating=TRUNC_TYPE)\n",
    "Test_padded = np.asarray(Test_padded)\n",
    "print('Done')\n",
    "print(Test_padded.shape)\n",
    "\n",
    "ypred = model.predict(Test_padded)\n",
    "\n",
    "print('output class: ', ypred)"
   ]
  },
  {
   "cell_type": "code",
   "execution_count": 19,
   "metadata": {},
   "outputs": [
    {
     "name": "stdout",
     "output_type": "stream",
     "text": [
      "(1000, 1)\n"
     ]
    }
   ],
   "source": [
    "y_pred = model.predict_classes(Testing_Sequences_padded)\n",
    "print(y_pred.shape)"
   ]
  },
  {
   "cell_type": "code",
   "execution_count": 20,
   "metadata": {},
   "outputs": [
    {
     "name": "stdout",
     "output_type": "stream",
     "text": [
      "(1000, 1)\n"
     ]
    }
   ],
   "source": [
    "print(Testing_Lables.shape)"
   ]
  },
  {
   "cell_type": "code",
   "execution_count": 21,
   "metadata": {},
   "outputs": [
    {
     "name": "stdout",
     "output_type": "stream",
     "text": [
      "0.882\n"
     ]
    }
   ],
   "source": [
    "from sklearn.metrics import accuracy_score\n",
    "print(accuracy_score(Testing_Lables, y_pred))"
   ]
  },
  {
   "cell_type": "code",
   "execution_count": null,
   "metadata": {},
   "outputs": [],
   "source": []
  }
 ],
 "metadata": {
  "kernelspec": {
   "display_name": "Python 3",
   "language": "python",
   "name": "python3"
  },
  "language_info": {
   "codemirror_mode": {
    "name": "ipython",
    "version": 3
   },
   "file_extension": ".py",
   "mimetype": "text/x-python",
   "name": "python",
   "nbconvert_exporter": "python",
   "pygments_lexer": "ipython3",
   "version": "3.7.6"
  }
 },
 "nbformat": 4,
 "nbformat_minor": 4
}
